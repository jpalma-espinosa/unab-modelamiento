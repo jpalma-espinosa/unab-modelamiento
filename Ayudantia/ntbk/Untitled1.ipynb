{
 "cells": [
  {
   "cell_type": "code",
   "execution_count": 3,
   "metadata": {},
   "outputs": [
    {
     "ename": "IndentationError",
     "evalue": "expected an indented block (<ipython-input-3-ef16f3898eb2>, line 7)",
     "output_type": "error",
     "traceback": [
      "\u001b[0;36m  File \u001b[0;32m\"<ipython-input-3-ef16f3898eb2>\"\u001b[0;36m, line \u001b[0;32m7\u001b[0m\n\u001b[0;31m    m = len(x) #numero de datos\u001b[0m\n\u001b[0m    ^\u001b[0m\n\u001b[0;31mIndentationError\u001b[0m\u001b[0;31m:\u001b[0m expected an indented block\n"
     ]
    }
   ],
   "source": [
    " import pandas as pd\n",
    "import matplotlib.pyplot as plt \n",
    "import numpy as np\n",
    "\n",
    "def min_cuad(x,y):\n",
    "### esta funcion entrega la pendiente y el intercepto\n",
    "m = len(x) #numero de datos\n",
    "Sumaxy = np.dot(x,y) #suma de los productos cruzados Suma(xi*yi)\n",
    "Sumax = np.sum(x) #Suma de los elementos de x\n",
    "Sumay = np.sum(y) #Suma de los elementos de y\n",
    "Sumaxx = np.dot(x,x) #Suma de los elementos de x al cuadrado\n",
    "a = (m*Sumaxy - Sumax*Sumay)/(m*Sumaxx - (Sumax)**2) ## esta es la pendiente b = (Sumaxx*Sumay - Sumaxy*Sumax)/(m*Sumaxx - (Sumax)**2)\n",
    "return a,b\n",
    "data=pd.read_csv(’Automobile.csv’,sep=’;’)\n",
    "plt.figure(1)\n",
    "length=data[’length’]\n",
    "width=data[’width’]\n",
    "pendiente1 ,intercepto1=min_cuad(length ,width)\n",
    "xnew = np.linspace(np.min(length),np.max(length) ,100)\n",
    "ynew = pendiente1*xnew + intercepto1 plt.plot(xnew,ynew,’-’,color=’black’,label=r’$width=%0.3f\\cdot␣length+%0.3f$’%(\n",
    "pendiente1 ,intercepto1)) plt.plot(length,width,’o’,color = ’blue’,label=’Datos’) plt.ylabel(’length’)\n",
    "plt.xlabel(’width’)\n",
    "plt.legend(loc=4) plt.savefig(’pregunta1_ajuste_fig1.pdf’,dpi=350)\n",
    "plt.figure(2)\n",
    "esize=data[’engine -size’]\n",
    "length=data[’length’]\n",
    "pendiente2,intercepto2=min_cuad(esize,length)\n",
    "xnew = np.linspace(np.min(esize),np.max(esize) ,100)\n",
    "ynew = pendiente2*xnew + intercepto2 plt.plot(xnew,ynew,’-’,color=’black’,label=r’$horsepower=%0.3f\\cdot␣␣length+%0.3f$’%(\n",
    "pendiente2 ,intercepto2)) plt.plot(esize,length,’o’,color = ’red’,label=’Datos’) plt.ylabel(’engine -size’)\n",
    "plt.xlabel(’length’)\n",
    "plt.legend(loc=4) plt.savefig(’pregunta1_ajuste_fig2.pdf’,dpi=350)\n",
    "plt.figure(3)\n",
    "wbase=data[’Wheel-base’]\n",
    "cweight=data[’curb-weight’]\n",
    "pendiente3,intercepto3=min_cuad(wbase,cweight)\n",
    "xnew = np.linspace(np.min(wbase),np.max(wbase) ,100)\n",
    "ynew = pendiente3*xnew + intercepto3 plt.plot(xnew,ynew,’-’,color=’black’,label=r’$curbweight=%0.3f\\cdot␣wheelbase %0.3f$’\n",
    "%(pendiente3 ,intercepto3)) plt.plot(wbase,cweight,’o’,color = ’green’,label=’Datos’) plt.ylabel(’wheel-base’)\n",
    "plt.xlabel(’curb-weight’)\n",
    "plt.legend(loc=4) plt.savefig(’pregunta1_ajuste_fig3.pdf’,dpi=350)"
   ]
  },
  {
   "cell_type": "code",
   "execution_count": null,
   "metadata": {
    "collapsed": true
   },
   "outputs": [],
   "source": []
  }
 ],
 "metadata": {
  "kernelspec": {
   "display_name": "Python 3",
   "language": "python",
   "name": "python3"
  },
  "language_info": {
   "codemirror_mode": {
    "name": "ipython",
    "version": 3
   },
   "file_extension": ".py",
   "mimetype": "text/x-python",
   "name": "python",
   "nbconvert_exporter": "python",
   "pygments_lexer": "ipython3",
   "version": "3.6.1"
  }
 },
 "nbformat": 4,
 "nbformat_minor": 2
}
